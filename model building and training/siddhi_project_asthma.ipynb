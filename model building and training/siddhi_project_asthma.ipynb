{
  "nbformat": 4,
  "nbformat_minor": 0,
  "metadata": {
    "colab": {
      "provenance": [],
      "gpuType": "T4"
    },
    "kernelspec": {
      "name": "python3",
      "display_name": "Python 3"
    },
    "language_info": {
      "name": "python"
    },
    "accelerator": "GPU"
  },
  "cells": [
    {
      "cell_type": "markdown",
      "source": [
        "# The model: Asthma_detection\n"
      ],
      "metadata": {
        "id": "v_J9MeD5dW8k"
      }
    },
    {
      "cell_type": "markdown",
      "source": [
        "## Loading the data\n"
      ],
      "metadata": {
        "id": "c7RwqkaMeoPr"
      }
    },
    {
      "cell_type": "code",
      "execution_count": null,
      "metadata": {
        "id": "iMypZw9XGS94"
      },
      "outputs": [],
      "source": [
        "#importing the libraries\n",
        "import numpy as np\n",
        "import pandas as pd\n",
        "\n",
        "import tensorflow as tf\n",
        "from tensorflow.keras.models import Sequential\n",
        "from tensorflow.keras.activations import relu , sigmoid\n",
        "from sklearn.preprocessing import StandardScaler\n",
        "from sklearn.model_selection import train_test_split\n",
        "from sklearn.metrics import accuracy_score, classification_report\n",
        "from tensorflow.keras.regularizers import l2\n",
        "from tensorflow.keras.callbacks import TensorBoard\n",
        "\n",
        "#importing the data\n",
        "dataframe = pd.read_csv(r\"/content/disease_data_asthma.csv\")\n",
        "dataframe = dataframe.dropna()\n",
        "\n",
        "#differentiating the feature vector and the target vector\n",
        "X_data = dataframe[['temperature' ,'resprate', 'heartrate' , 'o2sat' , 'sbp' , 'dbp']]\n",
        "Y = dataframe[['has_asthma']]\n"
      ]
    },
    {
      "cell_type": "markdown",
      "source": [
        "## Splitting and Scaling the data"
      ],
      "metadata": {
        "id": "eBob4Vn2fCo1"
      }
    },
    {
      "cell_type": "code",
      "source": [
        "#scaling the feature vector\n",
        "scalar = StandardScaler()\n",
        "scaled_training_data = scalar.fit_transform(X_data)\n",
        "X = pd.DataFrame(scaled_training_data , columns = X_data.columns)\n",
        "\n",
        "#converting the dataframes to numpy vectors\n",
        "X_np = X.to_numpy()\n",
        "Y_np = Y.to_numpy()\n",
        "\n",
        "#splitting the data into training and cross validation set\n",
        "X_train , X_cv , Y_train , Y_cv = train_test_split(X_np , Y_np , test_size = 0.2 , random_state = 42)"
      ],
      "metadata": {
        "id": "ZCQm0WjYfB-c"
      },
      "execution_count": null,
      "outputs": []
    },
    {
      "cell_type": "markdown",
      "source": [
        "## Building and training the model"
      ],
      "metadata": {
        "id": "VkKbw00Wh6zm"
      }
    },
    {
      "cell_type": "code",
      "source": [
        "#building the model\n",
        "model = Sequential([\n",
        "    tf.keras.layers.Dense(units = 60 , activation = 'relu' , kernel_regularizer = l2(0.01)),\n",
        "    tf.keras.layers.Dense(units = 36 , activation = 'relu' , kernel_regularizer = l2(0.01)),\n",
        "    tf.keras.layers.Dense(units = 12 , activation = 'relu' , kernel_regularizer = l2(0.01)),\n",
        "    tf.keras.layers.Dense(units = 6 , activation = 'relu' , kernel_regularizer = l2(0.01)),\n",
        "    tf.keras.layers.Dense(units = 1 , activation = 'sigmoid')\n",
        "], name = \"Asthma_detector\")\n",
        "\n",
        "#compiling the model\n",
        "model.compile(optimizer='adam', loss='binary_crossentropy', metrics=['accuracy'])\n",
        "\n",
        "#fitting the model\n",
        "model.fit(X_train , Y_train , epochs = 50)"
      ],
      "metadata": {
        "colab": {
          "base_uri": "https://localhost:8080/"
        },
        "id": "Ig7GILhpe6R9",
        "outputId": "0abda94b-9473-4517-e4ea-8864f9983c33"
      },
      "execution_count": null,
      "outputs": [
        {
          "output_type": "stream",
          "name": "stdout",
          "text": [
            "Epoch 1/25\n",
            "1523/1523 [==============================] - 7s 4ms/step - loss: 0.5231 - accuracy: 0.8295\n",
            "Epoch 2/25\n",
            "1523/1523 [==============================] - 7s 5ms/step - loss: 0.3990 - accuracy: 0.8683\n",
            "Epoch 3/25\n",
            "1523/1523 [==============================] - 6s 4ms/step - loss: 0.3639 - accuracy: 0.8966\n",
            "Epoch 4/25\n",
            "1523/1523 [==============================] - 7s 5ms/step - loss: 0.3304 - accuracy: 0.9230\n",
            "Epoch 5/25\n",
            "1523/1523 [==============================] - 6s 4ms/step - loss: 0.3119 - accuracy: 0.9296\n",
            "Epoch 6/25\n",
            "1523/1523 [==============================] - 8s 5ms/step - loss: 0.3007 - accuracy: 0.9325\n",
            "Epoch 7/25\n",
            "1523/1523 [==============================] - 6s 4ms/step - loss: 0.2924 - accuracy: 0.9351\n",
            "Epoch 8/25\n",
            "1523/1523 [==============================] - 7s 4ms/step - loss: 0.2849 - accuracy: 0.9351\n",
            "Epoch 9/25\n",
            "1523/1523 [==============================] - 6s 4ms/step - loss: 0.2799 - accuracy: 0.9367\n",
            "Epoch 10/25\n",
            "1523/1523 [==============================] - 7s 5ms/step - loss: 0.2758 - accuracy: 0.9377\n",
            "Epoch 11/25\n",
            "1523/1523 [==============================] - 6s 4ms/step - loss: 0.2718 - accuracy: 0.9376\n",
            "Epoch 12/25\n",
            "1523/1523 [==============================] - 7s 4ms/step - loss: 0.2679 - accuracy: 0.9390\n",
            "Epoch 13/25\n",
            "1523/1523 [==============================] - 6s 4ms/step - loss: 0.2644 - accuracy: 0.9396\n",
            "Epoch 14/25\n",
            "1523/1523 [==============================] - 6s 4ms/step - loss: 0.2619 - accuracy: 0.9404\n",
            "Epoch 15/25\n",
            "1523/1523 [==============================] - 6s 4ms/step - loss: 0.2589 - accuracy: 0.9405\n",
            "Epoch 16/25\n",
            "1523/1523 [==============================] - 6s 4ms/step - loss: 0.2569 - accuracy: 0.9412\n",
            "Epoch 17/25\n",
            "1523/1523 [==============================] - 7s 4ms/step - loss: 0.2542 - accuracy: 0.9425\n",
            "Epoch 18/25\n",
            "1523/1523 [==============================] - 6s 4ms/step - loss: 0.2521 - accuracy: 0.9417\n",
            "Epoch 19/25\n",
            "1523/1523 [==============================] - 7s 4ms/step - loss: 0.2509 - accuracy: 0.9419\n",
            "Epoch 20/25\n",
            "1523/1523 [==============================] - 6s 4ms/step - loss: 0.2489 - accuracy: 0.9428\n",
            "Epoch 21/25\n",
            "1523/1523 [==============================] - 7s 5ms/step - loss: 0.2476 - accuracy: 0.9420\n",
            "Epoch 22/25\n",
            "1523/1523 [==============================] - 6s 4ms/step - loss: 0.2453 - accuracy: 0.9426\n",
            "Epoch 23/25\n",
            "1523/1523 [==============================] - 7s 5ms/step - loss: 0.2439 - accuracy: 0.9426\n",
            "Epoch 24/25\n",
            "1523/1523 [==============================] - 6s 4ms/step - loss: 0.2429 - accuracy: 0.9431\n",
            "Epoch 25/25\n",
            "1523/1523 [==============================] - 7s 5ms/step - loss: 0.2421 - accuracy: 0.9430\n"
          ]
        },
        {
          "output_type": "execute_result",
          "data": {
            "text/plain": [
              "<keras.src.callbacks.History at 0x7ab2c0b0e770>"
            ]
          },
          "metadata": {},
          "execution_count": 21
        }
      ]
    },
    {
      "cell_type": "markdown",
      "source": [
        "## Evaluating performance and making predicitons"
      ],
      "metadata": {
        "id": "nhJd1c2-iHAV"
      }
    },
    {
      "cell_type": "code",
      "source": [
        "#making predictions on the cross validation set and verifying the model\n",
        "Y_cv_pred = model.predict(X_cv)\n",
        "y_cv_pred_binary = (Y_cv_pred > 0.5).astype(int)\n",
        "\n",
        "print(\"Classification Report on cross validaiton set:\")\n",
        "print(classification_report(Y_cv, y_cv_pred_binary))\n",
        "\n",
        "#making predictions on the training set\n",
        "Y_train_pred = model.predict(X_train)\n",
        "y_train_pred_binary = (Y_train_pred > 0.5).astype(int)\n",
        "\n",
        "print(\"Classification Report on training set:\")\n",
        "print(classification_report(Y_train ,y_train_pred_binary))"
      ],
      "metadata": {
        "colab": {
          "base_uri": "https://localhost:8080/"
        },
        "id": "ve5Nr1DjEIIB",
        "outputId": "d2ac1edd-e943-4245-ce2c-cbfafe8b712f"
      },
      "execution_count": null,
      "outputs": [
        {
          "output_type": "stream",
          "name": "stdout",
          "text": [
            "381/381 [==============================] - 1s 2ms/step\n",
            "Classification Report on cross validaiton set:\n",
            "              precision    recall  f1-score   support\n",
            "\n",
            "         0.0       0.88      0.99      0.93      5056\n",
            "         1.0       0.99      0.91      0.95      7122\n",
            "\n",
            "    accuracy                           0.94     12178\n",
            "   macro avg       0.94      0.95      0.94     12178\n",
            "weighted avg       0.95      0.94      0.94     12178\n",
            "\n",
            "1523/1523 [==============================] - 3s 2ms/step\n",
            "Classification Report on training set:\n",
            "              precision    recall  f1-score   support\n",
            "\n",
            "         0.0       0.88      0.99      0.93     19944\n",
            "         1.0       0.99      0.91      0.95     28766\n",
            "\n",
            "    accuracy                           0.94     48710\n",
            "   macro avg       0.94      0.95      0.94     48710\n",
            "weighted avg       0.95      0.94      0.94     48710\n",
            "\n"
          ]
        }
      ]
    },
    {
      "cell_type": "code",
      "source": [
        "#calculating accuracy on both the training and cross validation sets\n",
        "accuracy_train = accuracy_score(y_train_pred_binary , Y_train)\n",
        "accuracy_cv = accuracy_score(y_cv_pred_binary , Y_cv)\n",
        "\n",
        "print(f\"accuracy on training set is : {accuracy_train}\")\n",
        "print(f\"accuracy on cross validation set is : {accuracy_cv}\")\n"
      ],
      "metadata": {
        "colab": {
          "base_uri": "https://localhost:8080/"
        },
        "id": "hzfRTmwTEYKY",
        "outputId": "4a35f71d-223c-43a8-a42e-1d40e51134b2"
      },
      "execution_count": null,
      "outputs": [
        {
          "output_type": "stream",
          "name": "stdout",
          "text": [
            "accuracy on training set is : 0.9401149661260522\n",
            "accuracy on cross validation set is : 0.9397273772376417\n"
          ]
        }
      ]
    },
    {
      "cell_type": "markdown",
      "source": [
        "# Visualizing the model\n"
      ],
      "metadata": {
        "id": "laItFaNpiTIG"
      }
    },
    {
      "cell_type": "code",
      "source": [
        "from tensorflow.keras.utils import plot_model\n",
        "\n",
        "plot_model(model, to_file='model.png', show_shapes=True, show_layer_names=True)"
      ],
      "metadata": {
        "colab": {
          "base_uri": "https://localhost:8080/",
          "height": 644
        },
        "id": "g-HkDCcZkzp4",
        "outputId": "19684c70-f812-4606-800f-967223478459"
      },
      "execution_count": null,
      "outputs": [
        {
          "output_type": "execute_result",
          "data": {
            "image/png": "[encoded data removed]",
            "text/plain": [
              "<IPython.core.display.Image object>"
            ]
          },
          "metadata": {},
          "execution_count": 24
        }
      ]
    },
    {
      "cell_type": "code",
      "source": [
        "model.summary()"
      ],
      "metadata": {
        "colab": {
          "base_uri": "https://localhost:8080/"
        },
        "id": "6G9GSdisnpmO",
        "outputId": "ee88d71f-62a1-4152-ba3d-1e763150e77f"
      },
      "execution_count": null,
      "outputs": [
        {
          "output_type": "stream",
          "name": "stdout",
          "text": [
            "Model: \"Asthma_detector\"\n",
            "_________________________________________________________________\n",
            " Layer (type)                Output Shape              Param #   \n",
            "=================================================================\n",
            " dense_5 (Dense)             (None, 60)                420       \n",
            "                                                                 \n",
            " dense_6 (Dense)             (None, 36)                2196      \n",
            "                                                                 \n",
            " dense_7 (Dense)             (None, 12)                444       \n",
            "                                                                 \n",
            " dense_8 (Dense)             (None, 6)                 78        \n",
            "                                                                 \n",
            " dense_9 (Dense)             (None, 1)                 7         \n",
            "                                                                 \n",
            "=================================================================\n",
            "Total params: 3145 (12.29 KB)\n",
            "Trainable params: 3145 (12.29 KB)\n",
            "Non-trainable params: 0 (0.00 Byte)\n",
            "_________________________________________________________________\n"
          ]
        }
      ]
    },
    {
      "cell_type": "code",
      "source": [],
      "metadata": {
        "id": "HX5rtA5oj3qn"
      },
      "execution_count": null,
      "outputs": []
    }
  ]
}